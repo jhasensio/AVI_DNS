{
 "cells": [
  {
   "cell_type": "code",
   "execution_count": null,
   "id": "62ae1097",
   "metadata": {},
   "outputs": [],
   "source": []
  },
  {
   "cell_type": "code",
   "execution_count": 4,
   "id": "c6097137",
   "metadata": {},
   "outputs": [],
   "source": [
    "import kopf\n",
    "from avi.sdk.avi_api import ApiSession\n",
    "import urllib3\n",
    "import yaml\n",
    "\n",
    "urllib3.disable_warnings()\n",
    "\n",
    "def load_config():\n",
    "    config = {}\n",
    "    with open(\"config/controller_config.yaml\") as f:\n",
    "        config.update(yaml.safe_load(f))\n",
    "    with open(\"config/controller_secret.yaml\") as f:\n",
    "        config.update(yaml.safe_load(f))\n",
    "    return config\n",
    "\n",
    "def create_dnsrecord(spec, **kwargs):\n",
    "    config = load_config()"
   ]
  },
  {
   "cell_type": "code",
   "execution_count": 5,
   "id": "b58e0ddb",
   "metadata": {},
   "outputs": [],
   "source": [
    "config=load_config()"
   ]
  },
  {
   "cell_type": "code",
   "execution_count": 6,
   "id": "87346178",
   "metadata": {},
   "outputs": [
    {
     "data": {
      "text/plain": [
       "{'controller_ip': '192.168.1.100',\n",
       " 'tenant': 'admin',\n",
       " 'api_path': '/api/dnsrecord',\n",
       " 'api_version': '22.1.2',\n",
       " 'username': 'admin',\n",
       " 'password': 'tu_clave'}"
      ]
     },
     "execution_count": 6,
     "metadata": {},
     "output_type": "execute_result"
    }
   ],
   "source": [
    "config"
   ]
  }
 ],
 "metadata": {
  "kernelspec": {
   "display_name": "AVI",
   "language": "python",
   "name": "python3"
  },
  "language_info": {
   "codemirror_mode": {
    "name": "ipython",
    "version": 3
   },
   "file_extension": ".py",
   "mimetype": "text/x-python",
   "name": "python",
   "nbconvert_exporter": "python",
   "pygments_lexer": "ipython3",
   "version": "3.12.3"
  }
 },
 "nbformat": 4,
 "nbformat_minor": 5
}
