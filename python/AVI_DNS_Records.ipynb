{
 "cells": [
  {
   "cell_type": "markdown",
   "metadata": {},
   "source": [
    "# Operations for DNS Sample Code\n"
   ]
  },
  {
   "cell_type": "markdown",
   "metadata": {},
   "source": [
    "## Initial Login"
   ]
  },
  {
   "cell_type": "code",
   "execution_count": 1,
   "metadata": {},
   "outputs": [
    {
     "name": "stdout",
     "output_type": "stream",
     "text": [
      "Successful connection to avicontroller. Session ID:llw86y8tod6cseskya2rsvowanihjwle\n"
     ]
    }
   ],
   "source": [
    "from avi.sdk.avi_api import ApiSession\n",
    "from requests.packages import urllib3\n",
    "urllib3.disable_warnings()\n",
    "import json\n",
    "\n",
    "\n",
    "# Import custom libraries\n",
    "from libs.aux import *\n",
    "\n",
    "# Import environment variables with controller information and credentials\n",
    "from envs.controller_info import session_params as session_env\n",
    "\n",
    "# Establish a first session with AVI Controller\n",
    "api = ApiSession(\n",
    "    controller_ip=session_env['controller_ip'],\n",
    "    username=session_env['controller_username'],\n",
    "    password=session_env['controller_password'],\n",
    "    tenant=session_env['tenant'],\n",
    "    api_version=session_env['api_version']\n",
    "    )\n",
    "# Update headers and api version imported from demo env file with controller version (ensure actual API Version is uses in subsequent requests\n",
    "session_env['headers']['X-Avi-Version'] = api.remote_api_version['Version']\n",
    "session_env['api_version'] = api.remote_api_version['Version']\n",
    "\n",
    "# Create a new session with received AVI API Version\n",
    "api = ApiSession(\n",
    "    controller_ip=session_env['controller_ip'],\n",
    "    username=session_env['controller_username'],\n",
    "    password=session_env['controller_password'],\n",
    "    tenant=session_env['tenant'],\n",
    "    api_version=session_env['api_version']\n",
    "    )\n",
    "# Display Session ID to Verify AVI Controller Session Establishment\n",
    "print('Successful connection to ' + session_env['name'] + '. Session ID:' + api.session_id)"
   ]
  },
  {
   "cell_type": "markdown",
   "metadata": {},
   "source": [
    "### Step 0.- Select DNS VS to perform operations\n",
    "Sometimes options might not be displayed. If so, stop the cell execution and restart. As last resort, create variables manually\n",
    "\n",
    "```\n",
    "dns_vs = \"dns\"\n",
    "```"
   ]
  },
  {
   "cell_type": "code",
   "execution_count": 26,
   "metadata": {},
   "outputs": [
    {
     "name": "stdout",
     "output_type": "stream",
     "text": [
      "\u001b[1mPlease Select an option :\u001b[0m\n",
      "\u001b[1m--------------------------------------------------------------\u001b[0m\n",
      "1. VirtualService: dns\n",
      "\n",
      "You selected: \u001b[1mVirtualService: dns\u001b[0m as VS to create your A records\n"
     ]
    }
   ],
   "source": [
    "# Get Virtual Services containing that field (indication of a DNS-type VS)\n",
    "query = {\n",
    "    \"fields\": \"name\",\n",
    "    \"search\": \"(port,53)\"\n",
    "}\n",
    "\n",
    "resp = api.get(\"virtualservice\", params=query)\n",
    "resp = json.loads(resp.text)[\"results\"]\n",
    "\n",
    "menu_options = []\n",
    "i = 0\n",
    "for item in resp:\n",
    "    menu_options.insert(i, \"VirtualService: \"+item[\"name\"])\n",
    "    i = i +1\n",
    "\n",
    "menu_title = \"Please Select an option :\"\n",
    "selected_option = display_menu_from_list(menu_options, menu_title)\n",
    "\n",
    "print()\n",
    "if selected_option:\n",
    "    print(\"You selected: \\033[1m\"+selected_option+\"\\033[0m as VS to create your A records\")\n",
    "else:\n",
    "    print(\"No valid option was selected.\")\n",
    "\n",
    "dns_vs_name = selected_option.split(\": \")[1]"
   ]
  },
  {
   "cell_type": "code",
   "execution_count": 4,
   "metadata": {},
   "outputs": [],
   "source": [
    "# Set DNS VS mannually \n",
    "# Uncomennt and populate both variables if interactive menu does not work\n",
    "# dns_vs_name = \"dns\""
   ]
  },
  {
   "cell_type": "markdown",
   "metadata": {},
   "source": [
    "## STEP 1.- Collecting VS information"
   ]
  },
  {
   "cell_type": "code",
   "execution_count": 33,
   "metadata": {},
   "outputs": [
    {
     "name": "stdout",
     "output_type": "stream",
     "text": [
      "Getting information of virtualservice named:\n",
      "['dns']\n",
      "\n",
      "ID FQDN                      IP Address      TTL   Type\n",
      "------------------------------------------------------------\n",
      "0  test4.example.com         192.168.1.203   4     DNS_RECORD_A\n"
     ]
    }
   ],
   "source": [
    "vs_data = extract_dns_records_from_vs(api, dns_vs_name)\n",
    "print_dns_records(vs_data)"
   ]
  },
  {
   "cell_type": "markdown",
   "metadata": {},
   "source": [
    "## STEP 2.- Creating new DNS Record"
   ]
  },
  {
   "cell_type": "code",
   "execution_count": null,
   "metadata": {},
   "outputs": [],
   "source": [
    "# Create a new object \n",
    "NEW_DNS_RECORD_FQDN=\"test4.example.com\"\n",
    "NEW_DNS_RECORD_IP_ADDRESS=\"192.168.1.203\"\n",
    "NEW_DNS_RECORD_TTL= 4\n",
    "NEW_DNS_RECORD_TYPE=\"DNS_RECORD_A\""
   ]
  },
  {
   "cell_type": "code",
   "execution_count": 32,
   "metadata": {},
   "outputs": [
    {
     "name": "stdout",
     "output_type": "stream",
     "text": [
      "<Response [200]>\n",
      "- Object virtualservice/virtualservice-7bb2c9c7-f08e-4911-8204-3cf512bf29d4 named dns modified OK\n",
      "\n"
     ]
    }
   ],
   "source": [
    "# Craft payload using above parameters\n",
    "new_dns_record= {\n",
    "    'fqdn': [NEW_DNS_RECORD_FQDN],\n",
    "    'ip_address': [{\n",
    "        'ip_address': {\n",
    "            'addr': NEW_DNS_RECORD_IP_ADDRESS, \n",
    "            'type': 'V4'}\n",
    "            }],\n",
    "    'ttl': NEW_DNS_RECORD_TTL,\n",
    "    'type': NEW_DNS_RECORD_TYPE}\n",
    "\n",
    "# Insert new data\n",
    "if 'static_dns_records' in vs_data:\n",
    "    vs_data['static_dns_records'].append(new_dns_record)\n",
    "else:\n",
    "    vs_data['static_dns_records'] = [new_dns_record]\n",
    "\n",
    "# Define PUT parameters\n",
    "url_path=\"virtualservice/\"+vs_data[\"uuid\"]\n",
    "body =  vs_data\n",
    "\n",
    "#Send BODY information via PUT\n",
    "resp = api.put (url_path, data=json.dumps(body))\n",
    "\n",
    "if resp.status_code in range(200, 299):\n",
    "    print(resp)\n",
    "    print('- Object '+url_path+' named '+body['name']+ \" modified\", resp.reason)#, resp.text)\n",
    "    print()\n",
    "else:\n",
    "    print('Error in modifying '+url_path+' :%s' % resp.text)\n"
   ]
  },
  {
   "cell_type": "markdown",
   "metadata": {},
   "source": [
    "## DELETE existing Record"
   ]
  },
  {
   "cell_type": "code",
   "execution_count": null,
   "metadata": {},
   "outputs": [
    {
     "name": "stdout",
     "output_type": "stream",
     "text": [
      "Getting information of virtualservice named:\n",
      "['dns']\n",
      "\n",
      "\u001b[1mPlease Select an option :\u001b[0m\n",
      "\u001b[1m--------------------------------------------------------------\u001b[0m\n",
      "1. FQDN: test4.example.com IP_ADDRESS:192.168.1.203 TYPE:DNS_RECORD_A\n",
      "\n",
      "You selected: \u001b[1mFQDN: test4.example.com IP_ADDRESS:192.168.1.203 TYPE:DNS_RECORD_A\u001b[0m to delete\n"
     ]
    }
   ],
   "source": [
    "vs_data = extract_dns_records_from_vs(api, dns_vs_name)\n",
    "menu_options = []\n",
    "i = 0\n",
    "for item in vs_data[\"static_dns_records\"]:\n",
    "    menu_options.insert(i, \"FQDN: \"+item[\"fqdn\"][0]+\" IP_ADDRESS:\"+item[\"ip_address\"][0][\"ip_address\"][\"addr\"]+\" TYPE:\"+item[\"type\"])\n",
    "    i = i +1\n",
    "\n",
    "menu_title = \"Please Select an option :\"\n",
    "selected_option = display_menu_from_list(menu_options, menu_title)\n",
    "\n",
    "print()\n",
    "if selected_option:\n",
    "    print(\"You selected: \\033[1m\"+selected_option+\"\\033[0m to delete\")\n",
    "else:\n",
    "    print(\"No valid option was selected.\")\n",
    "\n",
    "selected_record_fqdn = selected_option.split(\": \")[1].split(\" \")[0]"
   ]
  },
  {
   "cell_type": "code",
   "execution_count": 29,
   "metadata": {},
   "outputs": [
    {
     "name": "stdout",
     "output_type": "stream",
     "text": [
      "<Response [200]>\n",
      "- Object virtualservice/virtualservice-7bb2c9c7-f08e-4911-8204-3cf512bf29d4 named dns modified OK\n",
      "\n",
      "printing modified table\n",
      "Getting information of virtualservice named:\n",
      "['dns']\n",
      "\n",
      "ID FQDN                      IP Address      TTL   Type\n",
      "------------------------------------------------------------\n"
     ]
    }
   ],
   "source": [
    "# Remove entry with partitular FQDN\n",
    "fqdn_to_remove = selected_record_fqdn\n",
    "vs_data[\"static_dns_records\"] = [\n",
    "    record for record in vs_data[\"static_dns_records\"]\n",
    "    if record.get(\"fqdn\", [None])[0] != fqdn_to_remove\n",
    "]\n",
    "\n",
    "# Define PUT parameters\n",
    "url_path=\"virtualservice/\"+vs_data[\"uuid\"]\n",
    "body =  vs_data\n",
    "\n",
    "#Send BODY information via PUT\n",
    "resp = api.put (url_path, data=json.dumps(body))\n",
    "\n",
    "if resp.status_code in range(200, 299):\n",
    "    print(resp)\n",
    "    print('- Object '+url_path+' named '+body['name']+ \" modified\", resp.reason)#, resp.text)\n",
    "    print()\n",
    "else:\n",
    "    print('Error in modifying '+url_path+' :%s' % resp.text)\n",
    "\n",
    "# Printing new static entries\n",
    "print (\"printing modified table\")\n",
    "vs_data = extract_dns_records_from_vs(api, dns_vs_name)\n",
    "print_dns_records(vs_data)"
   ]
  },
  {
   "cell_type": "markdown",
   "metadata": {},
   "source": [
    "## UPDATE Existing Record"
   ]
  },
  {
   "cell_type": "code",
   "execution_count": 35,
   "metadata": {},
   "outputs": [
    {
     "name": "stdout",
     "output_type": "stream",
     "text": [
      "Getting information of virtualservice named:\n",
      "['dns']\n",
      "\n",
      "\u001b[1mPlease Select an option :\u001b[0m\n",
      "\u001b[1m--------------------------------------------------------------\u001b[0m\n",
      "1. FQDN: test222.example.com IP_ADDRESS:192.168.1.1 TYPE:DNS_RECORD_A\n",
      "\n",
      "You selected: \u001b[1mFQDN: test222.example.com IP_ADDRESS:192.168.1.1 TYPE:DNS_RECORD_A\u001b[0m to delete\n"
     ]
    }
   ],
   "source": [
    "vs_data = extract_dns_records_from_vs(api, dns_vs_name)\n",
    "menu_options = []\n",
    "i = 0\n",
    "for item in vs_data[\"static_dns_records\"]:\n",
    "    menu_options.insert(i, \"FQDN: \"+item[\"fqdn\"][0]+\" IP_ADDRESS:\"+item[\"ip_address\"][0][\"ip_address\"][\"addr\"]+\" TYPE:\"+item[\"type\"])\n",
    "    i = i +1\n",
    "\n",
    "menu_title = \"Please Select an option :\"\n",
    "selected_option = display_menu_from_list(menu_options, menu_title)\n",
    "\n",
    "print()\n",
    "if selected_option:\n",
    "    print(\"You selected: \\033[1m\"+selected_option+\"\\033[0m to delete\")\n",
    "else:\n",
    "    print(\"No valid option was selected.\")\n",
    "\n",
    "selected_record_fqdn = selected_option.split(\": \")[1].split(\" \")[0]"
   ]
  },
  {
   "cell_type": "code",
   "execution_count": 49,
   "metadata": {},
   "outputs": [],
   "source": [
    "# Generate new payload\n",
    "NEW_DNS_RECORD_FQDN=selected_record_fqdn\n",
    "NEW_DNS_RECORD_IP_ADDRESS=\"192.168.1.211\"\n",
    "NEW_DNS_RECORD_TTL= 4\n",
    "NEW_DNS_RECORD_TYPE=\"DNS_RECORD_A\""
   ]
  },
  {
   "cell_type": "code",
   "execution_count": 50,
   "metadata": {},
   "outputs": [
    {
     "name": "stdout",
     "output_type": "stream",
     "text": [
      "Getting information of virtualservice named:\n",
      "['dns']\n",
      "\n",
      "<Response [200]>\n",
      "- Object virtualservice/virtualservice-7bb2c9c7-f08e-4911-8204-3cf512bf29d4 named dns modified OK\n",
      "\n",
      "printing modified table\n",
      "Getting information of virtualservice named:\n",
      "['dns']\n",
      "\n",
      "ID FQDN                      IP Address      TTL   Type\n",
      "------------------------------------------------------------\n",
      "0  test222.example.com       192.168.1.211   4     DNS_RECORD_A\n"
     ]
    }
   ],
   "source": [
    "# Craft payload using above parameters\n",
    "new_dns_record= {\n",
    "    'fqdn': [selected_record_fqdn],\n",
    "    'ip_address': [{\n",
    "        'ip_address': {\n",
    "            'addr': NEW_DNS_RECORD_IP_ADDRESS, \n",
    "            'type': 'V4'}\n",
    "            }],\n",
    "    'ttl': NEW_DNS_RECORD_TTL,\n",
    "    'type': NEW_DNS_RECORD_TYPE}\n",
    "\n",
    "vs_data = extract_dns_records_from_vs(api, dns_vs_name)\n",
    "fqdn = new_dns_record[\"fqdn\"][0]\n",
    "existing_records = vs_data.get(\"static_dns_records\", [])\n",
    "\n",
    "vs_data[\"static_dns_records\"] = [\n",
    "    rec for rec in existing_records\n",
    "    if fqdn not in rec.get(\"fqdn\", [])\n",
    "]\n",
    "\n",
    "# Ahora puedes añadir el nuevo sin riesgo de duplicados\n",
    "vs_data[\"static_dns_records\"].append(new_dns_record)\n",
    "\n",
    "# Define PUT parameters\n",
    "url_path=\"virtualservice/\"+vs_data[\"uuid\"]\n",
    "body =  vs_data\n",
    "\n",
    "#Send BODY information via PUT\n",
    "resp = api.put (url_path, data=json.dumps(body))\n",
    "\n",
    "if resp.status_code in range(200, 299):\n",
    "    print(resp)\n",
    "    print('- Object '+url_path+' named '+body['name']+ \" modified\", resp.reason)#, resp.text)\n",
    "    print()\n",
    "else:\n",
    "    print('Error in modifying '+url_path+' :%s' % resp.text)\n",
    "\n",
    "\n",
    "# Printing new static entries\n",
    "print (\"printing modified table\")\n",
    "vs_data = extract_dns_records_from_vs(api, dns_vs_name)\n",
    "print_dns_records(vs_data)"
   ]
  }
 ],
 "metadata": {
  "kernelspec": {
   "display_name": "AVI",
   "language": "python",
   "name": "python3"
  },
  "language_info": {
   "codemirror_mode": {
    "name": "ipython",
    "version": 3
   },
   "file_extension": ".py",
   "mimetype": "text/x-python",
   "name": "python",
   "nbconvert_exporter": "python",
   "pygments_lexer": "ipython3",
   "version": "3.12.3"
  }
 },
 "nbformat": 4,
 "nbformat_minor": 2
}
